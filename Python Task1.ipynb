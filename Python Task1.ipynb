{
 "cells": [
  {
   "cell_type": "code",
   "execution_count": 27,
   "id": "94976a0c-d43e-4470-b8f2-76e7bb6f0884",
   "metadata": {},
   "outputs": [],
   "source": [
    "list1 = [1,2,3,4, [44,55,66, True], False, (34,56,78,89,34), {1,2,3,3,2,1}, {1:34, \"key2\": [55, 67, 78, 89], 4: (45,\n",
    "22, 61, 34)}, [56, 'data science'], 'Machine Learning']"
   ]
  },
  {
   "cell_type": "code",
   "execution_count": 126,
   "id": "0f763d63-6a76-47b6-8961-a22dc3dd4fde",
   "metadata": {},
   "outputs": [],
   "source": [
    "def list_to_Number(l):\n",
    "    l1=[]\n",
    "    for i in l:\n",
    "        if type(i)==int:\n",
    "            l1.append(i)\n",
    "    \n",
    "        elif type(i)==dict:\n",
    "            for n in i.values():\n",
    "                if type(n)==list or type(n)==tuple or type(n)==set :\n",
    "                    for j in n :\n",
    "                        l1.append(j)\n",
    "                elif type(n)==int:\n",
    "                    l1.append(n)\n",
    "    \n",
    "            for n in i.keys():\n",
    "                if type(n)==list or type(n)==tuple or type(n)==set:\n",
    "                    for j in n :\n",
    "                        l1.append(j)\n",
    "                elif type(n)==int:\n",
    "                    l1.append(n)\n",
    "        elif type(i)==tuple or type(i)==set or type(i)==list :\n",
    "                for j in i:\n",
    "                    if type(j)==int:\n",
    "                        l1.append(j)\n",
    "    k=1\n",
    "    result=1\n",
    "    for k in l1:\n",
    "        result=k*result\n",
    "    return print(result,l1)\n",
    "            "
   ]
  },
  {
   "cell_type": "code",
   "execution_count": 127,
   "id": "94b2e4ec-084b-4f0a-af25-9a66b3f5bdb8",
   "metadata": {},
   "outputs": [],
   "source": [
    "list1 = [1,2,3,4, [44,55,66, True], False, (34,56,78,89,34), {1,2,3,3,2,1}, {1:34, \"key2\": [55, 67, 78, 89], 4: (45,\n",
    "22, 61, 34)}, [56, 'data science'], 'Machine Learning']"
   ]
  },
  {
   "cell_type": "code",
   "execution_count": 128,
   "id": "c9b04445-f21c-45e1-aced-88b5e3e500ab",
   "metadata": {},
   "outputs": [
    {
     "name": "stdout",
     "output_type": "stream",
     "text": [
      "4134711838987085478833841242112000 [1, 2, 3, 4, 44, 55, 66, 34, 56, 78, 89, 34, 1, 2, 3, 34, 55, 67, 78, 89, 45, 22, 61, 34, 1, 4, 56]\n"
     ]
    }
   ],
   "source": [
    "list_to_Number(list1)"
   ]
  },
  {
   "cell_type": "code",
   "execution_count": 129,
   "id": "24b1d2cb-52a1-40e8-a367-d9cb017bafab",
   "metadata": {},
   "outputs": [],
   "source": [
    "###2Write a python program for encrypting a message sent to you by your friend. The logic of encryption\n",
    "##should be such that, for a the output should be z. For b, the output should be y. For c, the output should\n",
    "##be x respectively. Also, the whitespace should be replaced with a dollar sign. Keep the punctuation\n",
    "##marks unchanged."
   ]
  },
  {
   "cell_type": "code",
   "execution_count": 130,
   "id": "710c6c5f-902d-4d0d-a3c5-e6260ea5de98",
   "metadata": {},
   "outputs": [],
   "source": [
    "def encrypt_text(a):\n",
    "    c=\"\"\n",
    "    a=a.lower()\n",
    "    for i in a:\n",
    "         if i!=\" \":\n",
    "            j=ord(i)+5\n",
    "            i=chr(j)\n",
    "            c=c+i\n",
    "         elif i==\" \":\n",
    "            i=\"$\"\n",
    "            c=c+i\n",
    "            \n",
    "        \n",
    "            \n",
    "    return c\n",
    "        \n",
    "        \n"
   ]
  },
  {
   "cell_type": "code",
   "execution_count": 131,
   "id": "4f249a96-3683-44ab-84ca-732efdc6e000",
   "metadata": {},
   "outputs": [
    {
     "data": {
      "text/plain": [
       "'lfzwf{$nx$mfsixtrj'"
      ]
     },
     "execution_count": 131,
     "metadata": {},
     "output_type": "execute_result"
    }
   ],
   "source": [
    "encrypt_text(\"Gaurav is handsome\")"
   ]
  },
  {
   "cell_type": "code",
   "execution_count": null,
   "id": "4ea47f9b-c7cc-4f39-a9b9-2ccdfd1892ed",
   "metadata": {},
   "outputs": [],
   "source": []
  }
 ],
 "metadata": {
  "kernelspec": {
   "display_name": "Python 3 (ipykernel)",
   "language": "python",
   "name": "python3"
  },
  "language_info": {
   "codemirror_mode": {
    "name": "ipython",
    "version": 3
   },
   "file_extension": ".py",
   "mimetype": "text/x-python",
   "name": "python",
   "nbconvert_exporter": "python",
   "pygments_lexer": "ipython3",
   "version": "3.10.8"
  }
 },
 "nbformat": 4,
 "nbformat_minor": 5
}
